{
  "nbformat": 4,
  "nbformat_minor": 0,
  "metadata": {
    "colab": {
      "provenance": [],
      "gpuType": "T4",
      "authorship_tag": "ABX9TyNQOo33sNtqTYt/qcSmpX+J",
      "include_colab_link": true
    },
    "kernelspec": {
      "name": "python3",
      "display_name": "Python 3"
    },
    "language_info": {
      "name": "python"
    },
    "accelerator": "GPU"
  },
  "cells": [
    {
      "cell_type": "markdown",
      "metadata": {
        "id": "view-in-github",
        "colab_type": "text"
      },
      "source": [
        "<a href=\"https://colab.research.google.com/github/ynsmrtpc/removebg.py/blob/main/removebg.ipynb\" target=\"_parent\"><img src=\"https://colab.research.google.com/assets/colab-badge.svg\" alt=\"Open In Colab\"/></a>"
      ]
    },
    {
      "cell_type": "code",
      "source": [
        "!pip install torch torchvision opencv-python pillow matplotlib\n",
        "# U²-Net modelini yüklemek için gerekli olan repository\n",
        "!git clone https://github.com/xuebinqin/U-2-Net.git\n",
        "# U²-Net Ağırlıklarını Google Drive'dan indiriyoruz\n",
        "!gdown --id 1ao1ovG1Qtx4b7EoskHXmi2E9rp5CHLcZ -O u2net.pth\n",
        "# https://drive.usercontent.google.com/download?id=1ao1ovG1Qtx4b7EoskHXmi2E9rp5CHLcZ&authuser=0"
      ],
      "metadata": {
        "id": "4JoR2_lP7w2H"
      },
      "execution_count": null,
      "outputs": []
    },
    {
      "cell_type": "code",
      "source": [
        "import torch\n",
        "import sys\n",
        "\n",
        "sys.path.append('./U-2-Net')\n",
        "\n",
        "from torchvision import transforms\n",
        "from PIL import Image\n",
        "import matplotlib.pyplot as plt\n",
        "import numpy as np\n",
        "import cv2\n",
        "from google.colab import files\n",
        "from model import U2NET  # U²-Net modelini import ediyoruz\n",
        "\n",
        "# Modeli yüklüyoruz\n",
        "model = U2NET(3, 1)\n",
        "model.load_state_dict(torch.load(\"u2net.pth\", map_location='cpu'))  # U²-Net ağırlıklarını yükleme\n",
        "model.eval()\n",
        "\n",
        "# Resim yükleme işlemi\n",
        "uploaded = files.upload()\n",
        "input_image_path = next(iter(uploaded))\n",
        "input_image = Image.open(input_image_path)\n",
        "\n",
        "# Resmi gösteriyoruz\n",
        "plt.imshow(input_image)\n",
        "plt.axis('off')\n",
        "plt.show()\n",
        "\n",
        "# Resim üzerinde kontrast ve parlaklık artırma (Ön işleme)\n",
        "image_np = np.array(input_image)\n",
        "adjusted = cv2.convertScaleAbs(image_np, alpha=1.5, beta=30)  # Kontrast ve parlaklık\n",
        "input_image = Image.fromarray(adjusted)\n",
        "\n",
        "# Model için uygun forma dönüştürme\n",
        "preprocess = transforms.Compose([\n",
        "    transforms.ToTensor(),\n",
        "    transforms.Resize((320, 320)),  # U²-Net için uygun boyut\n",
        "    transforms.Normalize(mean=[0.485, 0.456, 0.406], std=[0.229, 0.224, 0.225]),\n",
        "])\n",
        "\n",
        "input_tensor = preprocess(input_image).unsqueeze(0)\n",
        "\n",
        "# GPU kullanımı için model ve veriyi GPU'ya taşıyoruz\n",
        "if torch.cuda.is_available():\n",
        "    input_tensor = input_tensor.to('cuda')\n",
        "    model.to('cuda')\n",
        "\n",
        "# Segmentasyon işlemi (arka plan kaldırma)\n",
        "with torch.no_grad():\n",
        "    output = model(input_tensor)[0][:, 0, :, :]  # U²-Net çıkışı\n",
        "    output = output.squeeze().cpu().numpy()  # Sonuç maskesi\n",
        "\n",
        "# Maskeyi normalize etme ve threshold uygulama\n",
        "output = cv2.resize(output, (image_np.shape[1], image_np.shape[0]))  # Maskeyi orijinal resim boyutuna getiriyoruz\n",
        "output = (output - np.min(output)) / (np.max(output) - np.min(output))  # Normalize\n",
        "output = np.where(output > 0.5, 1, 0).astype(np.uint8)  # Threshold ile maskeyi netleştirme\n",
        "\n",
        "# Maskeyi uygulama (Son işleme)\n",
        "r_channel = image_np[:, :, 0] * output\n",
        "g_channel = image_np[:, :, 1] * output\n",
        "b_channel = image_np[:, :, 2] * output\n",
        "masked_image = np.stack([r_channel, g_channel, b_channel], axis=2)\n",
        "\n",
        "# Gaussian Blur ile maskeyi yumuşatma (kenarları iyileştirme)\n",
        "blurred_image = cv2.GaussianBlur(masked_image, (7, 7), 0)\n",
        "\n",
        "# Sonucu görselleştirme\n",
        "plt.imshow(blurred_image)\n",
        "plt.axis('off')\n",
        "plt.show()\n",
        "\n",
        "# Sonucu kaydetme ve indirme\n",
        "result_image = Image.fromarray(blurred_image.astype('uint8'))\n",
        "result_image_path = 'arka_plani_kaldirilmis_resim.png'\n",
        "result_image.save(result_image_path)\n",
        "files.download(result_image_path)\n"
      ],
      "metadata": {
        "id": "sABYpiXA9j_7"
      },
      "execution_count": null,
      "outputs": []
    }
  ]
}